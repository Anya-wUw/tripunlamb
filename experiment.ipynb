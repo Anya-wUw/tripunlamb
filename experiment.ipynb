{
 "cells": [
  {
   "cell_type": "code",
   "execution_count": 1,
   "id": "481b6daa",
   "metadata": {},
   "outputs": [],
   "source": [
    "import pandas as pd"
   ]
  },
  {
   "cell_type": "code",
   "execution_count": 4,
   "id": "89b6ac9f",
   "metadata": {},
   "outputs": [],
   "source": [
    "data = pd.read_csv('/mnt/extremessd10tb/borisiuk/open-unlearning/saves/gridearch_res/grid_search_results2.csv')"
   ]
  },
  {
   "cell_type": "code",
   "execution_count": 5,
   "id": "a2297ec8",
   "metadata": {},
   "outputs": [
    {
     "data": {
      "text/html": [
       "<div>\n",
       "<style scoped>\n",
       "    .dataframe tbody tr th:only-of-type {\n",
       "        vertical-align: middle;\n",
       "    }\n",
       "\n",
       "    .dataframe tbody tr th {\n",
       "        vertical-align: top;\n",
       "    }\n",
       "\n",
       "    .dataframe thead th {\n",
       "        text-align: right;\n",
       "    }\n",
       "</style>\n",
       "<table border=\"1\" class=\"dataframe\">\n",
       "  <thead>\n",
       "    <tr style=\"text-align: right;\">\n",
       "      <th></th>\n",
       "      <th>run_id</th>\n",
       "      <th>learning_rate</th>\n",
       "      <th>train_loss</th>\n",
       "      <th>rouge</th>\n",
       "      <th>mmlu</th>\n",
       "    </tr>\n",
       "  </thead>\n",
       "  <tbody>\n",
       "    <tr>\n",
       "      <th>0</th>\n",
       "      <td>popqa_llama-3.1-8B-Instruct_full_finetune_1ep_...</td>\n",
       "      <td>0.00003</td>\n",
       "      <td>3.256363</td>\n",
       "      <td>0.092242</td>\n",
       "      <td>0.3216</td>\n",
       "    </tr>\n",
       "    <tr>\n",
       "      <th>1</th>\n",
       "      <td>popqa_llama-3.1-8B-Instruct_full_finetune_1ep_...</td>\n",
       "      <td>0.00001</td>\n",
       "      <td>4.316081</td>\n",
       "      <td>0.107369</td>\n",
       "      <td>0.2936</td>\n",
       "    </tr>\n",
       "    <tr>\n",
       "      <th>2</th>\n",
       "      <td>popqa_llama-3.1-8B-Instruct_full_finetune_1ep_...</td>\n",
       "      <td>0.00020</td>\n",
       "      <td>2.461725</td>\n",
       "      <td>0.143315</td>\n",
       "      <td>0.3450</td>\n",
       "    </tr>\n",
       "    <tr>\n",
       "      <th>3</th>\n",
       "      <td>popqa_llama-3.1-8B-Instruct_full_finetune_1ep_...</td>\n",
       "      <td>0.00010</td>\n",
       "      <td>2.639040</td>\n",
       "      <td>0.130566</td>\n",
       "      <td>0.3437</td>\n",
       "    </tr>\n",
       "    <tr>\n",
       "      <th>4</th>\n",
       "      <td>popqa_llama-3.1-8B-Instruct_full_finetune_1ep_...</td>\n",
       "      <td>0.00100</td>\n",
       "      <td>2.235505</td>\n",
       "      <td>0.190625</td>\n",
       "      <td>0.3181</td>\n",
       "    </tr>\n",
       "  </tbody>\n",
       "</table>\n",
       "</div>"
      ],
      "text/plain": [
       "                                              run_id  learning_rate  \\\n",
       "0  popqa_llama-3.1-8B-Instruct_full_finetune_1ep_...        0.00003   \n",
       "1  popqa_llama-3.1-8B-Instruct_full_finetune_1ep_...        0.00001   \n",
       "2  popqa_llama-3.1-8B-Instruct_full_finetune_1ep_...        0.00020   \n",
       "3  popqa_llama-3.1-8B-Instruct_full_finetune_1ep_...        0.00010   \n",
       "4  popqa_llama-3.1-8B-Instruct_full_finetune_1ep_...        0.00100   \n",
       "\n",
       "   train_loss     rouge    mmlu  \n",
       "0    3.256363  0.092242  0.3216  \n",
       "1    4.316081  0.107369  0.2936  \n",
       "2    2.461725  0.143315  0.3450  \n",
       "3    2.639040  0.130566  0.3437  \n",
       "4    2.235505  0.190625  0.3181  "
      ]
     },
     "execution_count": 5,
     "metadata": {},
     "output_type": "execute_result"
    }
   ],
   "source": [
    "data"
   ]
  },
  {
   "cell_type": "code",
   "execution_count": 5,
   "id": "df52c0ac",
   "metadata": {},
   "outputs": [],
   "source": [
    "import pandas as pd\n",
    "# from ace_tools import display_dataframe_to_user\n",
    "\n",
    "# Создаем DataFrame с результатами\n",
    "data = [\n",
    "    {\"Run ID\": 1, \"Ep\": 1, \"r\": 32,  \"α\": 16, \"LR\": 3e-05, \"Train Loss\": 3.2564, \"ROUGE\": 0.09224, \"MMLU\": 0.3216},\n",
    "    {\"Run ID\": 2, \"Ep\": 1, \"r\": 32,  \"α\": 16, \"LR\": 1e-05, \"Train Loss\": 4.3161, \"ROUGE\": 0.10737, \"MMLU\": 0.2936},\n",
    "    {\"Run ID\": 3, \"Ep\": 1, \"r\": 32,  \"α\": 16, \"LR\": 2e-04, \"Train Loss\": 2.4617, \"ROUGE\": 0.14331, \"MMLU\": 0.3450},\n",
    "    {\"Run ID\": 4, \"Ep\": 1, \"r\": 32,  \"α\": 16, \"LR\": 1e-04, \"Train Loss\": 2.6390, \"ROUGE\": 0.13057, \"MMLU\": 0.3437},\n",
    "    {\"Run ID\": 5, \"Ep\": 1, \"r\": 32,  \"α\": 16, \"LR\": 1e-03, \"Train Loss\": 2.2355, \"ROUGE\": 0.19063, \"MMLU\": 0.3181},\n",
    "    {\"Run ID\": 6, \"Ep\": 2, \"r\": 8,   \"α\": 8,  \"LR\": 3e-05, \"Train Loss\": None,   \"ROUGE\": 0.09939, \"MMLU\": 0.3221},\n",
    "    {\"Run ID\": 7, \"Ep\": 2, \"r\": 8,   \"α\": 8,  \"LR\": 5e-05, \"Train Loss\": None,   \"ROUGE\": 0.12488, \"MMLU\": 0.3284},\n",
    "    {\"Run ID\": 8, \"Ep\": 2, \"r\": 8,   \"α\": 8,  \"LR\": 1e-04, \"Train Loss\": None,   \"ROUGE\": 0.14196, \"MMLU\": 0.3383},\n",
    "    {\"Run ID\": 9, \"Ep\": 2, \"r\": 8,   \"α\": 8,  \"LR\": 2e-04, \"Train Loss\": None,   \"ROUGE\": 0.15426, \"MMLU\": 0.3460},\n",
    "    {\"Run ID\": 10,\"Ep\": 2, \"r\": 8,   \"α\": 8,  \"LR\": 3e-04, \"Train Loss\": None,   \"ROUGE\": 0.16409, \"MMLU\": 0.3485},\n",
    "    {\"Run ID\": 11,\"Ep\": 2, \"r\": 8,   \"α\": 8,  \"LR\": 1e-03, \"Train Loss\": None,   \"ROUGE\": 0.23081, \"MMLU\": 0.3404},\n",
    "    {\"Run ID\": 12,\"Ep\": 2, \"r\": 8,   \"α\": 8,  \"LR\": 2e-03, \"Train Loss\": None,   \"ROUGE\": 0.24002, \"MMLU\": 0.2679},\n",
    "    {\"Run ID\": 13,\"Ep\": 3, \"r\": 8,   \"α\": 8,  \"LR\": 2e-04, \"Train Loss\": 2.4000, \"ROUGE\": 0.17450, \"MMLU\": 0.3305},\n",
    "    {\"Run ID\": 14,\"Ep\": 3, \"r\": 8,   \"α\": 16, \"LR\": 2e-04, \"Train Loss\": 2.1122, \"ROUGE\": 0.18775, \"MMLU\": 0.3260},\n",
    "    {\"Run ID\": 15,\"Ep\": 3, \"r\": 32,  \"α\": 64, \"LR\": 2e-04, \"Train Loss\": 1.8544, \"ROUGE\": 0.25647, \"MMLU\": 0.3413},\n",
    "    {\"Run ID\": 16,\"Ep\": 3, \"r\": 128, \"α\": 64, \"LR\": 2e-04, \"Train Loss\": 1.8530, \"ROUGE\": 0.26016, \"MMLU\": 0.3423},\n",
    "    {\"Run ID\": 17,\"Ep\": 2, \"r\": 16,  \"α\": 16, \"LR\": 5e-05, \"Train Loss\": 2.4579, \"ROUGE\": 0.13590, \"MMLU\": None},\n",
    "    {\"Run ID\": 18,\"Ep\": 2, \"r\": 16,  \"α\": 32, \"LR\": 3e-05, \"Train Loss\": 2.4377, \"ROUGE\": 0.13183, \"MMLU\": 0.3309},\n",
    "    {\"Run ID\": 19,\"Ep\": 5, \"r\": 16,  \"α\": 16, \"LR\": 2e-05, \"Train Loss\": 2.1831, \"ROUGE\": 0.15732, \"MMLU\": 0.3286},\n",
    "    {\"Run ID\": 20,\"Ep\": 3, \"r\": 4,   \"α\": 4,  \"LR\": 2e-05, \"Train Loss\": 3.0664, \"ROUGE\": 0.10050, \"MMLU\": 0.3210},\n",
    "    {\"Run ID\": 21,\"Ep\": 5, \"r\": 32,  \"α\": 64, \"LR\": 2e-04, \"Train Loss\": 1.2948, \"ROUGE\": 0.48710, \"MMLU\": 0.3383},\n",
    "    {\"Run ID\": 22,\"Ep\": 5, \"r\": 8,   \"α\": 8,  \"LR\": 4e-04, \"Train Loss\": 1.5336, \"ROUGE\": 0.29339, \"MMLU\": 0.3410},\n",
    "    {\"Run ID\": 23,\"Ep\": 5, \"r\": 8,   \"α\": 16, \"LR\": 2e-04, \"Train Loss\": 1.6365, \"ROUGE\": 0.23580, \"MMLU\": 0.3414},\n",
    "    {\"Run ID\": 24,\"Ep\": 2, \"r\": 16,  \"α\": 32, \"LR\": 1e-05, \"Train Loss\": 2.2997, \"ROUGE\": 0.15086, \"MMLU\": None},\n",
    "    {\"Run ID\": 25,\"Ep\": 2, \"r\": 32,  \"α\": 64, \"LR\": 3e-05, \"Train Loss\": 2.0107, \"ROUGE\": 0.18060, \"MMLU\": 0.3628},\n",
    "    {\"Run ID\": 26,\"Ep\": 5, \"r\": 32,  \"α\": 64, \"LR\": 3e-05, \"Train Loss\": 1.5677, \"ROUGE\": 0.30008, \"MMLU\": 0.3183},\n",
    "]\n",
    "\n",
    "df = pd.DataFrame(data)\n",
    "# Сохраняем в Excel\n",
    "df.to_excel('/mnt/extremessd10tb/borisiuk/open-unlearning/saves/gridearch_res/parameter_search_results.xlsx', index=False)\n",
    "\n",
    "# Показываем пользователю\n",
    "# display_dataframe_to_user('parameter_search_results', df)\n"
   ]
  },
  {
   "cell_type": "code",
   "execution_count": 3,
   "id": "b03ad1bf",
   "metadata": {},
   "outputs": [
    {
     "name": "stdout",
     "output_type": "stream",
     "text": [
      "Collecting openpyxl\n",
      "  Downloading openpyxl-3.1.5-py2.py3-none-any.whl.metadata (2.5 kB)\n",
      "Collecting et-xmlfile (from openpyxl)\n",
      "  Downloading et_xmlfile-2.0.0-py3-none-any.whl.metadata (2.7 kB)\n",
      "Downloading openpyxl-3.1.5-py2.py3-none-any.whl (250 kB)\n",
      "Downloading et_xmlfile-2.0.0-py3-none-any.whl (18 kB)\n",
      "Installing collected packages: et-xmlfile, openpyxl\n",
      "\u001b[2K   \u001b[90m━━━━━━━━━━━━━━━━━━━━━━━━━━━━━━━━━━━━━━━━\u001b[0m \u001b[32m2/2\u001b[0m [openpyxl]1/2\u001b[0m [openpyxl]\n",
      "\u001b[1A\u001b[2KSuccessfully installed et-xmlfile-2.0.0 openpyxl-3.1.5\n"
     ]
    }
   ],
   "source": [
    "!pip install openpyxl"
   ]
  },
  {
   "cell_type": "code",
   "execution_count": null,
   "id": "6807756f",
   "metadata": {},
   "outputs": [],
   "source": []
  }
 ],
 "metadata": {
  "kernelspec": {
   "display_name": "mmlu",
   "language": "python",
   "name": "python3"
  },
  "language_info": {
   "codemirror_mode": {
    "name": "ipython",
    "version": 3
   },
   "file_extension": ".py",
   "mimetype": "text/x-python",
   "name": "python",
   "nbconvert_exporter": "python",
   "pygments_lexer": "ipython3",
   "version": "3.11.13"
  }
 },
 "nbformat": 4,
 "nbformat_minor": 5
}
